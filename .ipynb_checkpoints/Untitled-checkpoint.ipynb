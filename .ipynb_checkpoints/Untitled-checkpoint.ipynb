{
 "cells": [
  {
   "cell_type": "code",
   "execution_count": 1,
   "metadata": {},
   "outputs": [],
   "source": [
    "from zipfile import ZipFile\n",
    "from urllib.request import urlopen   \n",
    "import pandas as pd\n",
    "import numpy as np\n",
    "import requests\n",
    "import os\n",
    "\n",
    "# URLs = ['https://s3.amazonaws.com/tripdata/201307-citibike-tripdata.zip',\\\n",
    "#        'https://s3.amazonaws.com/tripdata/201308-citibike-tripdata.zip',\\\n",
    "#        'https://s3.amazonaws.com/tripdata/201309-citibike-tripdata.zip',\\\n",
    "#         'https://s3.amazonaws.com/tripdata/201310-citibike-tripdata.zip',\\\n",
    "#         'https://s3.amazonaws.com/tripdata/201311-citibike-tripdata.zip',\\\n",
    "#         'https://s3.amazonaws.com/tripdata/201312-citibike-tripdata.zip']\n",
    "       \n",
    "# dfs=[]\n",
    "# for URL in URLs:\n",
    "# # open and save the zip file onto computer\n",
    "#     url = urlopen(URL)\n",
    "#     output = open('zipFile.zip', 'wb')    # note the flag:  \"wb\"        \n",
    "#     output.write(url.read())\n",
    "#     output.close()\n",
    "\n",
    "# # read the zip file as a pandas dataframe\n",
    "#     df = pd.read_csv('zipFile.zip')      \n",
    "#     dfs.append(df)"
   ]
  },
  {
   "cell_type": "code",
   "execution_count": null,
   "metadata": {},
   "outputs": [],
   "source": [
    "# clean_data_ridership = pd.concat([pd.read_csv(f) for f in glob.glob('raw_data/CitiBikeDailyRidershipandMembershipData/*.csv')], ignore_index = True)\n",
    "# clean_data_trip = pd.concat([pd.read_csv(f) for f in glob.glob('raw_data/CitiBikeTripHistories/*.csv')], ignore_index = True)\n"
   ]
  },
  {
   "cell_type": "code",
   "execution_count": null,
   "metadata": {},
   "outputs": [],
   "source": [
    "# companies = []\n",
    "# for i in company_list:\n",
    "#     try:\n",
    "#         table = pd.read_html(f'https://www.iposcoop.com/ipo/{i}/')\n",
    "#         if table:\n",
    "#             companies.append(table[0])\n",
    "#     except: continue       "
   ]
  },
  {
   "cell_type": "code",
   "execution_count": null,
   "metadata": {},
   "outputs": [],
   "source": [
    "filePath = 'https://s3.amazonaws.com/tripdata/'.\n",
    "filter = lambda name : 'zip' in name.\n",
    "for folderName, subfolders, filenames in os.walk(dirName):\n",
    "    for filename in filenames:\n",
    "        if filter(filename):\n",
    "            # create complete filepath of file in directory\n",
    "            filePath = os.path.join(folderName, filename)\n",
    "            # read ZIP-archive\n",
    "            with ZipFile(filePath,'r') as zipObj:\n",
    "                # Get a list of all archived files from zip\n",
    "                listOfFileNames = zipObj.namelist()\n",
    "                # Iterate over the files\n",
    "                for fileName in listOfFileNames:\n",
    "                    # Check filename ends with csv\n",
    "                    if fileName.endwith('.csv')\n",
    "                        # Extract a single file from zip-archive\n",
    "                        zipObj.extract(filenName, 'temp_csv')\n",
    "            "
   ]
  }
 ],
 "metadata": {
  "kernelspec": {
   "display_name": "Python 3",
   "language": "python",
   "name": "python3"
  },
  "language_info": {
   "codemirror_mode": {
    "name": "ipython",
    "version": 3
   },
   "file_extension": ".py",
   "mimetype": "text/x-python",
   "name": "python",
   "nbconvert_exporter": "python",
   "pygments_lexer": "ipython3",
   "version": "3.7.3"
  }
 },
 "nbformat": 4,
 "nbformat_minor": 2
}
